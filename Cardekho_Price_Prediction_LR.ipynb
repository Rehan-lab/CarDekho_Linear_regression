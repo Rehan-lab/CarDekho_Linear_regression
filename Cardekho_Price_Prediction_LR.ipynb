{
 "cells": [
  {
   "cell_type": "code",
   "execution_count": 3,
   "metadata": {},
   "outputs": [],
   "source": [
    "import os\n",
    "import numpy as np\n",
    "import pandas as pd\n",
    "import matplotlib.pyplot as plt\n",
    "import seaborn as sns"
   ]
  },
  {
   "cell_type": "code",
   "execution_count": 4,
   "metadata": {},
   "outputs": [],
   "source": [
    "df= pd.read_csv(\"C:\\\\Users\\\\dell\\\\Desktop\\\\Cardekho_Project\\\\car data.csv\")"
   ]
  },
  {
   "cell_type": "code",
   "execution_count": 5,
   "metadata": {},
   "outputs": [
    {
     "data": {
      "text/html": [
       "<div>\n",
       "<style scoped>\n",
       "    .dataframe tbody tr th:only-of-type {\n",
       "        vertical-align: middle;\n",
       "    }\n",
       "\n",
       "    .dataframe tbody tr th {\n",
       "        vertical-align: top;\n",
       "    }\n",
       "\n",
       "    .dataframe thead th {\n",
       "        text-align: right;\n",
       "    }\n",
       "</style>\n",
       "<table border=\"1\" class=\"dataframe\">\n",
       "  <thead>\n",
       "    <tr style=\"text-align: right;\">\n",
       "      <th></th>\n",
       "      <th>Car_Name</th>\n",
       "      <th>Year</th>\n",
       "      <th>Selling_Price</th>\n",
       "      <th>Present_Price</th>\n",
       "      <th>Kms_Driven</th>\n",
       "      <th>Fuel_Type</th>\n",
       "      <th>Seller_Type</th>\n",
       "      <th>Transmission</th>\n",
       "      <th>Owner</th>\n",
       "    </tr>\n",
       "  </thead>\n",
       "  <tbody>\n",
       "    <tr>\n",
       "      <th>0</th>\n",
       "      <td>ritz</td>\n",
       "      <td>2014</td>\n",
       "      <td>3.35</td>\n",
       "      <td>5.59</td>\n",
       "      <td>27000</td>\n",
       "      <td>Petrol</td>\n",
       "      <td>Dealer</td>\n",
       "      <td>Manual</td>\n",
       "      <td>0</td>\n",
       "    </tr>\n",
       "    <tr>\n",
       "      <th>1</th>\n",
       "      <td>sx4</td>\n",
       "      <td>2013</td>\n",
       "      <td>4.75</td>\n",
       "      <td>9.54</td>\n",
       "      <td>43000</td>\n",
       "      <td>Diesel</td>\n",
       "      <td>Dealer</td>\n",
       "      <td>Manual</td>\n",
       "      <td>0</td>\n",
       "    </tr>\n",
       "    <tr>\n",
       "      <th>2</th>\n",
       "      <td>ciaz</td>\n",
       "      <td>2017</td>\n",
       "      <td>7.25</td>\n",
       "      <td>9.85</td>\n",
       "      <td>6900</td>\n",
       "      <td>Petrol</td>\n",
       "      <td>Dealer</td>\n",
       "      <td>Manual</td>\n",
       "      <td>0</td>\n",
       "    </tr>\n",
       "    <tr>\n",
       "      <th>3</th>\n",
       "      <td>wagon r</td>\n",
       "      <td>2011</td>\n",
       "      <td>2.85</td>\n",
       "      <td>4.15</td>\n",
       "      <td>5200</td>\n",
       "      <td>Petrol</td>\n",
       "      <td>Dealer</td>\n",
       "      <td>Manual</td>\n",
       "      <td>0</td>\n",
       "    </tr>\n",
       "    <tr>\n",
       "      <th>4</th>\n",
       "      <td>swift</td>\n",
       "      <td>2014</td>\n",
       "      <td>4.60</td>\n",
       "      <td>6.87</td>\n",
       "      <td>42450</td>\n",
       "      <td>Diesel</td>\n",
       "      <td>Dealer</td>\n",
       "      <td>Manual</td>\n",
       "      <td>0</td>\n",
       "    </tr>\n",
       "    <tr>\n",
       "      <th>...</th>\n",
       "      <td>...</td>\n",
       "      <td>...</td>\n",
       "      <td>...</td>\n",
       "      <td>...</td>\n",
       "      <td>...</td>\n",
       "      <td>...</td>\n",
       "      <td>...</td>\n",
       "      <td>...</td>\n",
       "      <td>...</td>\n",
       "    </tr>\n",
       "    <tr>\n",
       "      <th>296</th>\n",
       "      <td>city</td>\n",
       "      <td>2016</td>\n",
       "      <td>9.50</td>\n",
       "      <td>11.60</td>\n",
       "      <td>33988</td>\n",
       "      <td>Diesel</td>\n",
       "      <td>Dealer</td>\n",
       "      <td>Manual</td>\n",
       "      <td>0</td>\n",
       "    </tr>\n",
       "    <tr>\n",
       "      <th>297</th>\n",
       "      <td>brio</td>\n",
       "      <td>2015</td>\n",
       "      <td>4.00</td>\n",
       "      <td>5.90</td>\n",
       "      <td>60000</td>\n",
       "      <td>Petrol</td>\n",
       "      <td>Dealer</td>\n",
       "      <td>Manual</td>\n",
       "      <td>0</td>\n",
       "    </tr>\n",
       "    <tr>\n",
       "      <th>298</th>\n",
       "      <td>city</td>\n",
       "      <td>2009</td>\n",
       "      <td>3.35</td>\n",
       "      <td>11.00</td>\n",
       "      <td>87934</td>\n",
       "      <td>Petrol</td>\n",
       "      <td>Dealer</td>\n",
       "      <td>Manual</td>\n",
       "      <td>0</td>\n",
       "    </tr>\n",
       "    <tr>\n",
       "      <th>299</th>\n",
       "      <td>city</td>\n",
       "      <td>2017</td>\n",
       "      <td>11.50</td>\n",
       "      <td>12.50</td>\n",
       "      <td>9000</td>\n",
       "      <td>Diesel</td>\n",
       "      <td>Dealer</td>\n",
       "      <td>Manual</td>\n",
       "      <td>0</td>\n",
       "    </tr>\n",
       "    <tr>\n",
       "      <th>300</th>\n",
       "      <td>brio</td>\n",
       "      <td>2016</td>\n",
       "      <td>5.30</td>\n",
       "      <td>5.90</td>\n",
       "      <td>5464</td>\n",
       "      <td>Petrol</td>\n",
       "      <td>Dealer</td>\n",
       "      <td>Manual</td>\n",
       "      <td>0</td>\n",
       "    </tr>\n",
       "  </tbody>\n",
       "</table>\n",
       "<p>301 rows × 9 columns</p>\n",
       "</div>"
      ],
      "text/plain": [
       "    Car_Name  Year  Selling_Price  Present_Price  Kms_Driven Fuel_Type  \\\n",
       "0       ritz  2014           3.35           5.59       27000    Petrol   \n",
       "1        sx4  2013           4.75           9.54       43000    Diesel   \n",
       "2       ciaz  2017           7.25           9.85        6900    Petrol   \n",
       "3    wagon r  2011           2.85           4.15        5200    Petrol   \n",
       "4      swift  2014           4.60           6.87       42450    Diesel   \n",
       "..       ...   ...            ...            ...         ...       ...   \n",
       "296     city  2016           9.50          11.60       33988    Diesel   \n",
       "297     brio  2015           4.00           5.90       60000    Petrol   \n",
       "298     city  2009           3.35          11.00       87934    Petrol   \n",
       "299     city  2017          11.50          12.50        9000    Diesel   \n",
       "300     brio  2016           5.30           5.90        5464    Petrol   \n",
       "\n",
       "    Seller_Type Transmission  Owner  \n",
       "0        Dealer       Manual      0  \n",
       "1        Dealer       Manual      0  \n",
       "2        Dealer       Manual      0  \n",
       "3        Dealer       Manual      0  \n",
       "4        Dealer       Manual      0  \n",
       "..          ...          ...    ...  \n",
       "296      Dealer       Manual      0  \n",
       "297      Dealer       Manual      0  \n",
       "298      Dealer       Manual      0  \n",
       "299      Dealer       Manual      0  \n",
       "300      Dealer       Manual      0  \n",
       "\n",
       "[301 rows x 9 columns]"
      ]
     },
     "execution_count": 5,
     "metadata": {},
     "output_type": "execute_result"
    }
   ],
   "source": [
    "df"
   ]
  },
  {
   "cell_type": "code",
   "execution_count": 6,
   "metadata": {},
   "outputs": [
    {
     "data": {
      "text/html": [
       "<div>\n",
       "<style scoped>\n",
       "    .dataframe tbody tr th:only-of-type {\n",
       "        vertical-align: middle;\n",
       "    }\n",
       "\n",
       "    .dataframe tbody tr th {\n",
       "        vertical-align: top;\n",
       "    }\n",
       "\n",
       "    .dataframe thead th {\n",
       "        text-align: right;\n",
       "    }\n",
       "</style>\n",
       "<table border=\"1\" class=\"dataframe\">\n",
       "  <thead>\n",
       "    <tr style=\"text-align: right;\">\n",
       "      <th></th>\n",
       "      <th>Year</th>\n",
       "      <th>Selling_Price</th>\n",
       "      <th>Present_Price</th>\n",
       "      <th>Kms_Driven</th>\n",
       "      <th>Owner</th>\n",
       "    </tr>\n",
       "  </thead>\n",
       "  <tbody>\n",
       "    <tr>\n",
       "      <th>count</th>\n",
       "      <td>301.000000</td>\n",
       "      <td>301.000000</td>\n",
       "      <td>301.000000</td>\n",
       "      <td>301.000000</td>\n",
       "      <td>301.000000</td>\n",
       "    </tr>\n",
       "    <tr>\n",
       "      <th>mean</th>\n",
       "      <td>2013.627907</td>\n",
       "      <td>4.661296</td>\n",
       "      <td>7.628472</td>\n",
       "      <td>36947.205980</td>\n",
       "      <td>0.043189</td>\n",
       "    </tr>\n",
       "    <tr>\n",
       "      <th>std</th>\n",
       "      <td>2.891554</td>\n",
       "      <td>5.082812</td>\n",
       "      <td>8.644115</td>\n",
       "      <td>38886.883882</td>\n",
       "      <td>0.247915</td>\n",
       "    </tr>\n",
       "    <tr>\n",
       "      <th>min</th>\n",
       "      <td>2003.000000</td>\n",
       "      <td>0.100000</td>\n",
       "      <td>0.320000</td>\n",
       "      <td>500.000000</td>\n",
       "      <td>0.000000</td>\n",
       "    </tr>\n",
       "    <tr>\n",
       "      <th>25%</th>\n",
       "      <td>2012.000000</td>\n",
       "      <td>0.900000</td>\n",
       "      <td>1.200000</td>\n",
       "      <td>15000.000000</td>\n",
       "      <td>0.000000</td>\n",
       "    </tr>\n",
       "    <tr>\n",
       "      <th>50%</th>\n",
       "      <td>2014.000000</td>\n",
       "      <td>3.600000</td>\n",
       "      <td>6.400000</td>\n",
       "      <td>32000.000000</td>\n",
       "      <td>0.000000</td>\n",
       "    </tr>\n",
       "    <tr>\n",
       "      <th>75%</th>\n",
       "      <td>2016.000000</td>\n",
       "      <td>6.000000</td>\n",
       "      <td>9.900000</td>\n",
       "      <td>48767.000000</td>\n",
       "      <td>0.000000</td>\n",
       "    </tr>\n",
       "    <tr>\n",
       "      <th>max</th>\n",
       "      <td>2018.000000</td>\n",
       "      <td>35.000000</td>\n",
       "      <td>92.600000</td>\n",
       "      <td>500000.000000</td>\n",
       "      <td>3.000000</td>\n",
       "    </tr>\n",
       "  </tbody>\n",
       "</table>\n",
       "</div>"
      ],
      "text/plain": [
       "              Year  Selling_Price  Present_Price     Kms_Driven       Owner\n",
       "count   301.000000     301.000000     301.000000     301.000000  301.000000\n",
       "mean   2013.627907       4.661296       7.628472   36947.205980    0.043189\n",
       "std       2.891554       5.082812       8.644115   38886.883882    0.247915\n",
       "min    2003.000000       0.100000       0.320000     500.000000    0.000000\n",
       "25%    2012.000000       0.900000       1.200000   15000.000000    0.000000\n",
       "50%    2014.000000       3.600000       6.400000   32000.000000    0.000000\n",
       "75%    2016.000000       6.000000       9.900000   48767.000000    0.000000\n",
       "max    2018.000000      35.000000      92.600000  500000.000000    3.000000"
      ]
     },
     "execution_count": 6,
     "metadata": {},
     "output_type": "execute_result"
    }
   ],
   "source": [
    "df.describe()"
   ]
  },
  {
   "cell_type": "code",
   "execution_count": 7,
   "metadata": {},
   "outputs": [
    {
     "name": "stdout",
     "output_type": "stream",
     "text": [
      "<class 'pandas.core.frame.DataFrame'>\n",
      "RangeIndex: 301 entries, 0 to 300\n",
      "Data columns (total 9 columns):\n",
      " #   Column         Non-Null Count  Dtype  \n",
      "---  ------         --------------  -----  \n",
      " 0   Car_Name       301 non-null    object \n",
      " 1   Year           301 non-null    int64  \n",
      " 2   Selling_Price  301 non-null    float64\n",
      " 3   Present_Price  301 non-null    float64\n",
      " 4   Kms_Driven     301 non-null    int64  \n",
      " 5   Fuel_Type      301 non-null    object \n",
      " 6   Seller_Type    301 non-null    object \n",
      " 7   Transmission   301 non-null    object \n",
      " 8   Owner          301 non-null    int64  \n",
      "dtypes: float64(2), int64(3), object(4)\n",
      "memory usage: 21.3+ KB\n"
     ]
    }
   ],
   "source": [
    "df.info()"
   ]
  },
  {
   "cell_type": "code",
   "execution_count": 8,
   "metadata": {},
   "outputs": [
    {
     "data": {
      "text/plain": [
       "city                   26\n",
       "corolla altis          16\n",
       "verna                  14\n",
       "fortuner               11\n",
       "brio                   10\n",
       "                       ..\n",
       "Bajaj Pulsar 135 LS     1\n",
       "land cruiser            1\n",
       "KTM RC390               1\n",
       "Suzuki Access 125       1\n",
       "alto 800                1\n",
       "Name: Car_Name, Length: 98, dtype: int64"
      ]
     },
     "execution_count": 8,
     "metadata": {},
     "output_type": "execute_result"
    }
   ],
   "source": [
    "df['Car_Name'].value_counts()"
   ]
  },
  {
   "cell_type": "code",
   "execution_count": 9,
   "metadata": {},
   "outputs": [
    {
     "data": {
      "text/plain": [
       "<matplotlib.axes._subplots.AxesSubplot at 0x20fdc1c7af0>"
      ]
     },
     "execution_count": 9,
     "metadata": {},
     "output_type": "execute_result"
    },
    {
     "data": {
      "image/png": "[encoded data removed]",
      "text/plain": [
       "<Figure size 432x288 with 1 Axes>"
      ]
     },
     "metadata": {
      "needs_background": "light"
     },
     "output_type": "display_data"
    }
   ],
   "source": [
    "sns.countplot(data=df,x='Fuel_Type',hue='Transmission')"
   ]
  },
  {
   "cell_type": "code",
   "execution_count": 10,
   "metadata": {},
   "outputs": [],
   "source": [
    "df['Total Years'] = 2020 - df['Year']"
   ]
  },
  {
   "cell_type": "code",
   "execution_count": 11,
   "metadata": {},
   "outputs": [
    {
     "data": {
      "text/html": [
       "<div>\n",
       "<style scoped>\n",
       "    .dataframe tbody tr th:only-of-type {\n",
       "        vertical-align: middle;\n",
       "    }\n",
       "\n",
       "    .dataframe tbody tr th {\n",
       "        vertical-align: top;\n",
       "    }\n",
       "\n",
       "    .dataframe thead th {\n",
       "        text-align: right;\n",
       "    }\n",
       "</style>\n",
       "<table border=\"1\" class=\"dataframe\">\n",
       "  <thead>\n",
       "    <tr style=\"text-align: right;\">\n",
       "      <th></th>\n",
       "      <th>Car_Name</th>\n",
       "      <th>Year</th>\n",
       "      <th>Selling_Price</th>\n",
       "      <th>Present_Price</th>\n",
       "      <th>Kms_Driven</th>\n",
       "      <th>Fuel_Type</th>\n",
       "      <th>Seller_Type</th>\n",
       "      <th>Transmission</th>\n",
       "      <th>Owner</th>\n",
       "      <th>Total Years</th>\n",
       "    </tr>\n",
       "  </thead>\n",
       "  <tbody>\n",
       "    <tr>\n",
       "      <th>0</th>\n",
       "      <td>ritz</td>\n",
       "      <td>2014</td>\n",
       "      <td>3.35</td>\n",
       "      <td>5.59</td>\n",
       "      <td>27000</td>\n",
       "      <td>Petrol</td>\n",
       "      <td>Dealer</td>\n",
       "      <td>Manual</td>\n",
       "      <td>0</td>\n",
       "      <td>6</td>\n",
       "    </tr>\n",
       "    <tr>\n",
       "      <th>1</th>\n",
       "      <td>sx4</td>\n",
       "      <td>2013</td>\n",
       "      <td>4.75</td>\n",
       "      <td>9.54</td>\n",
       "      <td>43000</td>\n",
       "      <td>Diesel</td>\n",
       "      <td>Dealer</td>\n",
       "      <td>Manual</td>\n",
       "      <td>0</td>\n",
       "      <td>7</td>\n",
       "    </tr>\n",
       "    <tr>\n",
       "      <th>2</th>\n",
       "      <td>ciaz</td>\n",
       "      <td>2017</td>\n",
       "      <td>7.25</td>\n",
       "      <td>9.85</td>\n",
       "      <td>6900</td>\n",
       "      <td>Petrol</td>\n",
       "      <td>Dealer</td>\n",
       "      <td>Manual</td>\n",
       "      <td>0</td>\n",
       "      <td>3</td>\n",
       "    </tr>\n",
       "    <tr>\n",
       "      <th>3</th>\n",
       "      <td>wagon r</td>\n",
       "      <td>2011</td>\n",
       "      <td>2.85</td>\n",
       "      <td>4.15</td>\n",
       "      <td>5200</td>\n",
       "      <td>Petrol</td>\n",
       "      <td>Dealer</td>\n",
       "      <td>Manual</td>\n",
       "      <td>0</td>\n",
       "      <td>9</td>\n",
       "    </tr>\n",
       "    <tr>\n",
       "      <th>4</th>\n",
       "      <td>swift</td>\n",
       "      <td>2014</td>\n",
       "      <td>4.60</td>\n",
       "      <td>6.87</td>\n",
       "      <td>42450</td>\n",
       "      <td>Diesel</td>\n",
       "      <td>Dealer</td>\n",
       "      <td>Manual</td>\n",
       "      <td>0</td>\n",
       "      <td>6</td>\n",
       "    </tr>\n",
       "  </tbody>\n",
       "</table>\n",
       "</div>"
      ],
      "text/plain": [
       "  Car_Name  Year  Selling_Price  Present_Price  Kms_Driven Fuel_Type  \\\n",
       "0     ritz  2014           3.35           5.59       27000    Petrol   \n",
       "1      sx4  2013           4.75           9.54       43000    Diesel   \n",
       "2     ciaz  2017           7.25           9.85        6900    Petrol   \n",
       "3  wagon r  2011           2.85           4.15        5200    Petrol   \n",
       "4    swift  2014           4.60           6.87       42450    Diesel   \n",
       "\n",
       "  Seller_Type Transmission  Owner  Total Years  \n",
       "0      Dealer       Manual      0            6  \n",
       "1      Dealer       Manual      0            7  \n",
       "2      Dealer       Manual      0            3  \n",
       "3      Dealer       Manual      0            9  \n",
       "4      Dealer       Manual      0            6  "
      ]
     },
     "execution_count": 11,
     "metadata": {},
     "output_type": "execute_result"
    }
   ],
   "source": [
    "df.head()"
   ]
  },
  {
   "cell_type": "code",
   "execution_count": 12,
   "metadata": {},
   "outputs": [
    {
     "data": {
      "text/plain": [
       "<matplotlib.axes._subplots.AxesSubplot at 0x20fdc2fb220>"
      ]
     },
     "execution_count": 12,
     "metadata": {},
     "output_type": "execute_result"
    },
    {
     "data": {
      "image/png": "[encoded data removed]",
      "text/plain": [
       "<Figure size 432x288 with 1 Axes>"
      ]
     },
     "metadata": {
      "needs_background": "light"
     },
     "output_type": "display_data"
    }
   ],
   "source": [
    "sns.scatterplot(y=df['Selling_Price'],x =df['Total Years'])"
   ]
  },
  {
   "cell_type": "code",
   "execution_count": 13,
   "metadata": {},
   "outputs": [
    {
     "data": {
      "text/plain": [
       "<matplotlib.axes._subplots.AxesSubplot at 0x20fdc36e190>"
      ]
     },
     "execution_count": 13,
     "metadata": {},
     "output_type": "execute_result"
    },
    {
     "data": {
      "image/png": "[encoded data removed]",
      "text/plain": [
       "<Figure size 432x288 with 1 Axes>"
      ]
     },
     "metadata": {
      "needs_background": "light"
     },
     "output_type": "display_data"
    }
   ],
   "source": [
    "sns.boxplot(data=df,y='Selling_Price',x='Fuel_Type')"
   ]
  },
  {
   "cell_type": "code",
   "execution_count": 14,
   "metadata": {},
   "outputs": [
    {
     "data": {
      "text/plain": [
       "<matplotlib.axes._subplots.AxesSubplot at 0x20fdc3f1ac0>"
      ]
     },
     "execution_count": 14,
     "metadata": {},
     "output_type": "execute_result"
    },
    {
     "data": {
      "image/png": "[encoded data removed]",
      "text/plain": [
       "<Figure size 432x288 with 1 Axes>"
      ]
     },
     "metadata": {
      "needs_background": "light"
     },
     "output_type": "display_data"
    }
   ],
   "source": [
    "sns.boxplot(data=df,y='Selling_Price',x='Seller_Type')"
   ]
  },
  {
   "cell_type": "code",
   "execution_count": 15,
   "metadata": {},
   "outputs": [
    {
     "data": {
      "text/plain": [
       "<matplotlib.axes._subplots.AxesSubplot at 0x20fdc453730>"
      ]
     },
     "execution_count": 15,
     "metadata": {},
     "output_type": "execute_result"
    },
    {
     "data": {
      "image/png": "[encoded data removed]",
      "text/plain": [
       "<Figure size 432x288 with 1 Axes>"
      ]
     },
     "metadata": {
      "needs_background": "light"
     },
     "output_type": "display_data"
    }
   ],
   "source": [
    "sns.scatterplot(data=df,x='Present_Price',y='Selling_Price')"
   ]
  },
  {
   "cell_type": "code",
   "execution_count": 16,
   "metadata": {},
   "outputs": [
    {
     "data": {
      "text/html": [
       "<div>\n",
       "<style scoped>\n",
       "    .dataframe tbody tr th:only-of-type {\n",
       "        vertical-align: middle;\n",
       "    }\n",
       "\n",
       "    .dataframe tbody tr th {\n",
       "        vertical-align: top;\n",
       "    }\n",
       "\n",
       "    .dataframe thead th {\n",
       "        text-align: right;\n",
       "    }\n",
       "</style>\n",
       "<table border=\"1\" class=\"dataframe\">\n",
       "  <thead>\n",
       "    <tr style=\"text-align: right;\">\n",
       "      <th></th>\n",
       "      <th>Car_Name</th>\n",
       "      <th>Year</th>\n",
       "      <th>Selling_Price</th>\n",
       "      <th>Present_Price</th>\n",
       "      <th>Kms_Driven</th>\n",
       "      <th>Fuel_Type</th>\n",
       "      <th>Seller_Type</th>\n",
       "      <th>Transmission</th>\n",
       "      <th>Owner</th>\n",
       "      <th>Total Years</th>\n",
       "    </tr>\n",
       "  </thead>\n",
       "  <tbody>\n",
       "    <tr>\n",
       "      <th>64</th>\n",
       "      <td>fortuner</td>\n",
       "      <td>2017</td>\n",
       "      <td>33.0</td>\n",
       "      <td>36.23</td>\n",
       "      <td>6000</td>\n",
       "      <td>Diesel</td>\n",
       "      <td>Dealer</td>\n",
       "      <td>Automatic</td>\n",
       "      <td>0</td>\n",
       "      <td>3</td>\n",
       "    </tr>\n",
       "    <tr>\n",
       "      <th>86</th>\n",
       "      <td>land cruiser</td>\n",
       "      <td>2010</td>\n",
       "      <td>35.0</td>\n",
       "      <td>92.60</td>\n",
       "      <td>78000</td>\n",
       "      <td>Diesel</td>\n",
       "      <td>Dealer</td>\n",
       "      <td>Manual</td>\n",
       "      <td>0</td>\n",
       "      <td>10</td>\n",
       "    </tr>\n",
       "  </tbody>\n",
       "</table>\n",
       "</div>"
      ],
      "text/plain": [
       "        Car_Name  Year  Selling_Price  Present_Price  Kms_Driven Fuel_Type  \\\n",
       "64      fortuner  2017           33.0          36.23        6000    Diesel   \n",
       "86  land cruiser  2010           35.0          92.60       78000    Diesel   \n",
       "\n",
       "   Seller_Type Transmission  Owner  Total Years  \n",
       "64      Dealer    Automatic      0            3  \n",
       "86      Dealer       Manual      0           10  "
      ]
     },
     "execution_count": 16,
     "metadata": {},
     "output_type": "execute_result"
    }
   ],
   "source": [
    "df[df['Selling_Price']>30]"
   ]
  },
  {
   "cell_type": "code",
   "execution_count": 17,
   "metadata": {},
   "outputs": [],
   "source": [
    "# df = df.drop([86],axis=0)"
   ]
  },
  {
   "cell_type": "code",
   "execution_count": 18,
   "metadata": {},
   "outputs": [
    {
     "data": {
      "text/plain": [
       "Dealer        195\n",
       "Individual    106\n",
       "Name: Seller_Type, dtype: int64"
      ]
     },
     "execution_count": 18,
     "metadata": {},
     "output_type": "execute_result"
    }
   ],
   "source": [
    "df['Seller_Type'].value_counts()"
   ]
  },
  {
   "cell_type": "code",
   "execution_count": 19,
   "metadata": {},
   "outputs": [],
   "source": [
    "car_df = pd.get_dummies(df.drop(['Car_Name','Year'],axis=1),drop_first=True)"
   ]
  },
  {
   "cell_type": "code",
   "execution_count": 20,
   "metadata": {},
   "outputs": [
    {
     "data": {
      "text/html": [
       "<div>\n",
       "<style scoped>\n",
       "    .dataframe tbody tr th:only-of-type {\n",
       "        vertical-align: middle;\n",
       "    }\n",
       "\n",
       "    .dataframe tbody tr th {\n",
       "        vertical-align: top;\n",
       "    }\n",
       "\n",
       "    .dataframe thead th {\n",
       "        text-align: right;\n",
       "    }\n",
       "</style>\n",
       "<table border=\"1\" class=\"dataframe\">\n",
       "  <thead>\n",
       "    <tr style=\"text-align: right;\">\n",
       "      <th></th>\n",
       "      <th>Selling_Price</th>\n",
       "      <th>Present_Price</th>\n",
       "      <th>Kms_Driven</th>\n",
       "      <th>Owner</th>\n",
       "      <th>Total Years</th>\n",
       "      <th>Fuel_Type_Diesel</th>\n",
       "      <th>Fuel_Type_Petrol</th>\n",
       "      <th>Seller_Type_Individual</th>\n",
       "      <th>Transmission_Manual</th>\n",
       "    </tr>\n",
       "  </thead>\n",
       "  <tbody>\n",
       "    <tr>\n",
       "      <th>0</th>\n",
       "      <td>3.35</td>\n",
       "      <td>5.59</td>\n",
       "      <td>27000</td>\n",
       "      <td>0</td>\n",
       "      <td>6</td>\n",
       "      <td>0</td>\n",
       "      <td>1</td>\n",
       "      <td>0</td>\n",
       "      <td>1</td>\n",
       "    </tr>\n",
       "    <tr>\n",
       "      <th>1</th>\n",
       "      <td>4.75</td>\n",
       "      <td>9.54</td>\n",
       "      <td>43000</td>\n",
       "      <td>0</td>\n",
       "      <td>7</td>\n",
       "      <td>1</td>\n",
       "      <td>0</td>\n",
       "      <td>0</td>\n",
       "      <td>1</td>\n",
       "    </tr>\n",
       "    <tr>\n",
       "      <th>2</th>\n",
       "      <td>7.25</td>\n",
       "      <td>9.85</td>\n",
       "      <td>6900</td>\n",
       "      <td>0</td>\n",
       "      <td>3</td>\n",
       "      <td>0</td>\n",
       "      <td>1</td>\n",
       "      <td>0</td>\n",
       "      <td>1</td>\n",
       "    </tr>\n",
       "    <tr>\n",
       "      <th>3</th>\n",
       "      <td>2.85</td>\n",
       "      <td>4.15</td>\n",
       "      <td>5200</td>\n",
       "      <td>0</td>\n",
       "      <td>9</td>\n",
       "      <td>0</td>\n",
       "      <td>1</td>\n",
       "      <td>0</td>\n",
       "      <td>1</td>\n",
       "    </tr>\n",
       "    <tr>\n",
       "      <th>4</th>\n",
       "      <td>4.60</td>\n",
       "      <td>6.87</td>\n",
       "      <td>42450</td>\n",
       "      <td>0</td>\n",
       "      <td>6</td>\n",
       "      <td>1</td>\n",
       "      <td>0</td>\n",
       "      <td>0</td>\n",
       "      <td>1</td>\n",
       "    </tr>\n",
       "    <tr>\n",
       "      <th>...</th>\n",
       "      <td>...</td>\n",
       "      <td>...</td>\n",
       "      <td>...</td>\n",
       "      <td>...</td>\n",
       "      <td>...</td>\n",
       "      <td>...</td>\n",
       "      <td>...</td>\n",
       "      <td>...</td>\n",
       "      <td>...</td>\n",
       "    </tr>\n",
       "    <tr>\n",
       "      <th>296</th>\n",
       "      <td>9.50</td>\n",
       "      <td>11.60</td>\n",
       "      <td>33988</td>\n",
       "      <td>0</td>\n",
       "      <td>4</td>\n",
       "      <td>1</td>\n",
       "      <td>0</td>\n",
       "      <td>0</td>\n",
       "      <td>1</td>\n",
       "    </tr>\n",
       "    <tr>\n",
       "      <th>297</th>\n",
       "      <td>4.00</td>\n",
       "      <td>5.90</td>\n",
       "      <td>60000</td>\n",
       "      <td>0</td>\n",
       "      <td>5</td>\n",
       "      <td>0</td>\n",
       "      <td>1</td>\n",
       "      <td>0</td>\n",
       "      <td>1</td>\n",
       "    </tr>\n",
       "    <tr>\n",
       "      <th>298</th>\n",
       "      <td>3.35</td>\n",
       "      <td>11.00</td>\n",
       "      <td>87934</td>\n",
       "      <td>0</td>\n",
       "      <td>11</td>\n",
       "      <td>0</td>\n",
       "      <td>1</td>\n",
       "      <td>0</td>\n",
       "      <td>1</td>\n",
       "    </tr>\n",
       "    <tr>\n",
       "      <th>299</th>\n",
       "      <td>11.50</td>\n",
       "      <td>12.50</td>\n",
       "      <td>9000</td>\n",
       "      <td>0</td>\n",
       "      <td>3</td>\n",
       "      <td>1</td>\n",
       "      <td>0</td>\n",
       "      <td>0</td>\n",
       "      <td>1</td>\n",
       "    </tr>\n",
       "    <tr>\n",
       "      <th>300</th>\n",
       "      <td>5.30</td>\n",
       "      <td>5.90</td>\n",
       "      <td>5464</td>\n",
       "      <td>0</td>\n",
       "      <td>4</td>\n",
       "      <td>0</td>\n",
       "      <td>1</td>\n",
       "      <td>0</td>\n",
       "      <td>1</td>\n",
       "    </tr>\n",
       "  </tbody>\n",
       "</table>\n",
       "<p>301 rows × 9 columns</p>\n",
       "</div>"
      ],
      "text/plain": [
       "     Selling_Price  Present_Price  Kms_Driven  Owner  Total Years  \\\n",
       "0             3.35           5.59       27000      0            6   \n",
       "1             4.75           9.54       43000      0            7   \n",
       "2             7.25           9.85        6900      0            3   \n",
       "3             2.85           4.15        5200      0            9   \n",
       "4             4.60           6.87       42450      0            6   \n",
       "..             ...            ...         ...    ...          ...   \n",
       "296           9.50          11.60       33988      0            4   \n",
       "297           4.00           5.90       60000      0            5   \n",
       "298           3.35          11.00       87934      0           11   \n",
       "299          11.50          12.50        9000      0            3   \n",
       "300           5.30           5.90        5464      0            4   \n",
       "\n",
       "     Fuel_Type_Diesel  Fuel_Type_Petrol  Seller_Type_Individual  \\\n",
       "0                   0                 1                       0   \n",
       "1                   1                 0                       0   \n",
       "2                   0                 1                       0   \n",
       "3                   0                 1                       0   \n",
       "4                   1                 0                       0   \n",
       "..                ...               ...                     ...   \n",
       "296                 1                 0                       0   \n",
       "297                 0                 1                       0   \n",
       "298                 0                 1                       0   \n",
       "299                 1                 0                       0   \n",
       "300                 0                 1                       0   \n",
       "\n",
       "     Transmission_Manual  \n",
       "0                      1  \n",
       "1                      1  \n",
       "2                      1  \n",
       "3                      1  \n",
       "4                      1  \n",
       "..                   ...  \n",
       "296                    1  \n",
       "297                    1  \n",
       "298                    1  \n",
       "299                    1  \n",
       "300                    1  \n",
       "\n",
       "[301 rows x 9 columns]"
      ]
     },
     "execution_count": 20,
     "metadata": {},
     "output_type": "execute_result"
    }
   ],
   "source": [
    "car_df"
   ]
  },
  {
   "cell_type": "code",
   "execution_count": 21,
   "metadata": {},
   "outputs": [
    {
     "data": {
      "text/plain": [
       "<matplotlib.axes._subplots.AxesSubplot at 0x20fdc4a5d60>"
      ]
     },
     "execution_count": 21,
     "metadata": {},
     "output_type": "execute_result"
    },
    {
     "data": {
      "image/png": "[encoded data removed]",
      "text/plain": [
       "<Figure size 432x288 with 2 Axes>"
      ]
     },
     "metadata": {
      "needs_background": "light"
     },
     "output_type": "display_data"
    }
   ],
   "source": [
    "sns.heatmap(car_df.corr(),annot=True)"
   ]
  },
  {
   "cell_type": "code",
   "execution_count": 22,
   "metadata": {},
   "outputs": [],
   "source": [
    "X = car_df.drop('Selling_Price',axis=1)\n",
    "# X = car_df['Present_Price']"
   ]
  },
  {
   "cell_type": "code",
   "execution_count": 23,
   "metadata": {},
   "outputs": [],
   "source": [
    "y = car_df['Selling_Price']"
   ]
  },
  {
   "cell_type": "code",
   "execution_count": 24,
   "metadata": {},
   "outputs": [],
   "source": [
    "from sklearn.model_selection import train_test_split"
   ]
  },
  {
   "cell_type": "code",
   "execution_count": 25,
   "metadata": {},
   "outputs": [],
   "source": [
    "X_train, X_test, y_train, y_test = train_test_split(X, y, test_size=0.3, random_state=42)"
   ]
  },
  {
   "cell_type": "code",
   "execution_count": 26,
   "metadata": {},
   "outputs": [],
   "source": [
    "from sklearn.preprocessing import StandardScaler"
   ]
  },
  {
   "cell_type": "code",
   "execution_count": 27,
   "metadata": {},
   "outputs": [],
   "source": [
    "scaler = StandardScaler()"
   ]
  },
  {
   "cell_type": "code",
   "execution_count": 28,
   "metadata": {},
   "outputs": [],
   "source": [
    "X_train = scaler.fit_transform(X_train)"
   ]
  },
  {
   "cell_type": "code",
   "execution_count": 29,
   "metadata": {},
   "outputs": [],
   "source": [
    "X_test = scaler.transform(X_test)"
   ]
  },
  {
   "cell_type": "code",
   "execution_count": 30,
   "metadata": {},
   "outputs": [
    {
     "data": {
      "text/plain": [
       "array([[-0.76923237, -0.83904661, -0.18730358, ...,  0.5       ,\n",
       "         1.35566878, -2.85139173],\n",
       "       [ 1.26268234,  0.43381798, -0.18730358, ...,  0.5       ,\n",
       "        -0.73764331,  0.35070593],\n",
       "       [ 0.38139709,  0.12793616, -0.18730358, ..., -2.        ,\n",
       "        -0.73764331,  0.35070593],\n",
       "       ...,\n",
       "       [-0.44579392, -0.49554421,  3.38849211, ...,  0.5       ,\n",
       "         1.35566878,  0.35070593],\n",
       "       [ 0.292367  ,  0.74767564, -0.18730358, ...,  0.5       ,\n",
       "        -0.73764331,  0.35070593],\n",
       "       [-0.63399678, -0.78963873, -0.18730358, ...,  0.5       ,\n",
       "         1.35566878,  0.35070593]])"
      ]
     },
     "execution_count": 30,
     "metadata": {},
     "output_type": "execute_result"
    }
   ],
   "source": [
    "X_train"
   ]
  },
  {
   "cell_type": "code",
   "execution_count": 31,
   "metadata": {},
   "outputs": [
    {
     "data": {
      "text/plain": [
       "array([[-0.77035933, -0.31908751, -0.18730358, -0.80317152, -0.48507125,\n",
       "         0.5       ,  1.35566878, -2.85139173],\n",
       "       [ 0.69807376, -0.62541635, -0.18730358, -0.80317152, -0.48507125,\n",
       "         0.5       , -0.73764331,  0.35070593],\n",
       "       [ 0.2247492 ,  0.52790469, -0.18730358,  0.59364851,  2.06155281,\n",
       "        -2.        , -0.73764331,  0.35070593],\n",
       "       [-0.77035933, -0.06028433,  3.38849211,  0.94285352, -0.48507125,\n",
       "         0.5       ,  1.35566878,  0.35070593],\n",
       "       [ 1.26268234,  0.057377  , -0.18730358,  0.24444351, -0.48507125,\n",
       "         0.5       , -0.73764331,  0.35070593],\n",
       "       [ 0.17065497,  0.11304321, -0.18730358, -0.45396651,  2.06155281,\n",
       "        -2.        , -0.73764331,  0.35070593],\n",
       "       [-0.66893264, -0.27203238, -0.18730358, -0.45396651, -0.48507125,\n",
       "         0.5       ,  1.35566878,  0.35070593],\n",
       "       [-0.73542347, -0.69552848, -0.18730358, -0.1047615 , -0.48507125,\n",
       "         0.5       ,  1.35566878,  0.35070593],\n",
       "       [-0.77374022, -0.55436312, -0.18730358, -0.80317152, -0.48507125,\n",
       "         0.5       ,  1.35566878,  0.35070593],\n",
       "       [ 0.28673218,  0.17499128, -0.18730358, -0.1047615 ,  2.06155281,\n",
       "        -2.        , -0.73764331,  0.35070593],\n",
       "       [ 0.27320862, -0.83502339, -0.18730358, -1.50158154,  2.06155281,\n",
       "        -2.        , -0.73764331,  0.35070593],\n",
       "       [-0.66893264, -0.10733946, -0.18730358,  0.24444351, -0.48507125,\n",
       "         0.5       ,  1.35566878,  0.35070593],\n",
       "       [ 0.5222675 , -0.53083556, -0.18730358, -0.1047615 , -0.48507125,\n",
       "         0.5       , -0.73764331, -2.85139173],\n",
       "       [-0.77712111, -0.85316314, -0.18730358, -1.15237653, -0.48507125,\n",
       "         0.5       ,  1.35566878, -2.85139173],\n",
       "       [ 0.2247492 ,  0.17499128, -0.18730358,  0.24444351,  2.06155281,\n",
       "        -2.        , -0.73764331,  0.35070593],\n",
       "       [-0.28351121,  0.6345316 , -0.18730358,  0.24444351, -0.48507125,\n",
       "         0.5       , -0.73764331,  0.35070593],\n",
       "       [-0.63737767, -0.61318202, -0.18730358,  0.59364851, -0.48507125,\n",
       "         0.5       ,  1.35566878,  0.35070593],\n",
       "       [ 1.26606323, -0.67905919, -0.18730358, -1.15237653, -0.48507125,\n",
       "         0.5       , -0.73764331,  0.35070593],\n",
       "       [-0.77374022, -0.68141195, -0.18730358, -1.15237653, -0.48507125,\n",
       "         0.5       ,  1.35566878,  0.35070593],\n",
       "       [-0.62948893, -0.85081039, -0.18730358, -1.15237653, -0.48507125,\n",
       "         0.5       ,  1.35566878,  0.35070593],\n",
       "       [-0.75232792, -0.60141824, -0.18730358,  0.24444351, -0.48507125,\n",
       "         0.5       ,  1.35566878,  0.35070593],\n",
       "       [ 0.2247492 , -0.42651435, -0.18730358, -0.80317152,  2.06155281,\n",
       "        -2.        , -0.73764331,  0.35070593],\n",
       "       [ 0.2247492 , -0.12329114, -0.18730358,  0.59364851,  2.06155281,\n",
       "        -2.        , -0.73764331,  0.35070593],\n",
       "       [-0.27224158, -0.41319775, -0.18730358,  0.94285352, -0.48507125,\n",
       "         0.5       , -0.73764331,  0.35070593],\n",
       "       [-0.72302688, -0.29555994, -0.18730358, -0.1047615 , -0.48507125,\n",
       "         0.5       ,  1.35566878,  0.35070593],\n",
       "       [-0.0693882 , -0.06028433, -0.18730358,  0.59364851, -0.48507125,\n",
       "         0.5       , -0.73764331,  0.35070593],\n",
       "       [ 0.28109737,  0.45028727, -0.18730358,  0.24444351, -0.48507125,\n",
       "         0.5       , -0.73764331,  0.35070593],\n",
       "       [-0.19110023,  0.12793616, -0.18730358,  0.94285352, -0.48507125,\n",
       "         0.5       , -0.73764331,  0.35070593],\n",
       "       [-0.66893264, -0.6249458 , -0.18730358, -1.15237653, -0.48507125,\n",
       "         0.5       ,  1.35566878,  0.35070593],\n",
       "       [-0.66555175, -0.46025287, -0.18730358, -0.80317152, -0.48507125,\n",
       "         0.5       ,  1.35566878,  0.35070593],\n",
       "       [-0.74590423, -0.50730799, -0.18730358,  0.24444351, -0.48507125,\n",
       "         0.5       ,  1.35566878,  0.35070593],\n",
       "       [ 0.74315229,  0.59848738, -0.18730358, -0.1047615 ,  2.06155281,\n",
       "        -2.        , -0.73764331,  0.35070593],\n",
       "       [-0.72753473, -0.24850482, -0.18730358,  1.29205853, -0.48507125,\n",
       "         0.5       ,  1.35566878,  0.35070593],\n",
       "       [-0.02881752,  0.48084957, -0.18730358,  1.99046855, -0.48507125,\n",
       "         0.5       , -0.73764331,  0.35070593],\n",
       "       [ 0.38139709,  0.12793616, -0.18730358, -0.80317152,  2.06155281,\n",
       "        -2.        , -0.73764331,  0.35070593],\n",
       "       [-0.04572197, -0.06028433, -0.18730358, -0.1047615 , -0.48507125,\n",
       "         0.5       , -0.73764331,  0.35070593],\n",
       "       [ 0.81978579,  0.81023543, -0.18730358,  0.24444351, -0.48507125,\n",
       "         0.5       , -0.73764331,  0.35070593],\n",
       "       [ 1.26268234,  0.57495982, -0.18730358,  1.64126354, -0.48507125,\n",
       "         0.5       , -0.73764331,  0.35070593],\n",
       "       [-0.33760545,  0.45447518, -0.18730358,  0.24444351, -0.48507125,\n",
       "         0.5       , -0.73764331,  0.35070593],\n",
       "       [ 1.2547936 ,  0.29262908, -0.18730358,  1.29205853, -0.48507125,\n",
       "         0.5       , -0.73764331,  0.35070593],\n",
       "       [ 0.70934339,  0.88081811, -0.18730358,  3.03808357, -0.48507125,\n",
       "         0.5       , -0.73764331,  0.35070593],\n",
       "       [ 0.55720336,  2.29609502, -0.18730358,  3.38728858, -0.48507125,\n",
       "         0.5       , -0.73764331, -2.85139173],\n",
       "       [-0.11333977, -0.43672531, -0.18730358, -0.1047615 , -0.48507125,\n",
       "         0.5       , -0.73764331,  0.35070593],\n",
       "       [-0.74331221,  0.10440859, -0.18730358, -0.1047615 , -0.48507125,\n",
       "         0.5       ,  1.35566878,  0.35070593],\n",
       "       [ 0.13571911, -0.09724613, -0.18730358, -0.45396651,  2.06155281,\n",
       "        -2.        , -0.73764331,  0.35070593],\n",
       "       [-0.69936065, -0.13086702, -0.18730358,  0.24444351, -0.48507125,\n",
       "         0.5       ,  1.35566878,  0.35070593],\n",
       "       [ 0.69807376,  0.06031794, -0.18730358, -0.1047615 , -0.48507125,\n",
       "         0.5       , -0.73764331,  0.35070593],\n",
       "       [ 1.73826083,  0.99845592, -0.18730358,  1.29205853, -0.48507125,\n",
       "         0.5       , -0.73764331, -2.85139173],\n",
       "       [-0.31619315, -0.17792214, -0.18730358,  0.24444351, -0.48507125,\n",
       "         0.5       , -0.73764331,  0.35070593],\n",
       "       [-0.0693882 ,  0.34278984, -0.18730358,  0.59364851,  2.06155281,\n",
       "        -2.        , -0.73764331,  0.35070593],\n",
       "       [ 0.2247492 , -0.03209832, -0.18730358,  0.24444351, -0.48507125,\n",
       "         0.5       , -0.73764331, -2.85139173],\n",
       "       [-0.66893264, -0.78728597, -0.18730358, -1.15237653, -0.48507125,\n",
       "         0.5       ,  1.35566878,  0.35070593],\n",
       "       [ 3.21796355,  0.2220464 , -0.18730358, -0.45396651,  2.06155281,\n",
       "        -2.        , -0.73764331, -2.85139173],\n",
       "       [ 2.02676342, -0.53083556, -0.18730358, -1.15237653,  2.06155281,\n",
       "        -2.        , -0.73764331, -2.85139173],\n",
       "       [ 0.2247492 ,  0.56039626, -0.18730358, -0.45396651,  2.06155281,\n",
       "        -2.        , -0.73764331,  0.35070593],\n",
       "       [ 0.69807376, -0.16020589, -0.18730358, -0.80317152, -0.48507125,\n",
       "         0.5       , -0.73764331, -2.85139173],\n",
       "       [-0.19222719, -0.77806317, -0.18730358, -0.45396651, -0.48507125,\n",
       "         0.5       , -0.73764331,  0.35070593],\n",
       "       [ 0.47268112, -0.08409423, -0.18730358, -0.80317152,  2.06155281,\n",
       "        -2.        , -0.73764331,  0.35070593],\n",
       "       [ 0.02189582,  0.30335765, -0.18730358,  2.68887857, -0.48507125,\n",
       "         0.5       , -0.73764331,  0.35070593],\n",
       "       [ 0.12332251, -0.52944743, -0.18730358, -0.80317152, -0.48507125,\n",
       "         0.5       , -0.73764331, -2.85139173],\n",
       "       [-0.76923237, -0.17792214, -0.18730358,  0.24444351, -0.48507125,\n",
       "         0.5       ,  1.35566878,  0.35070593],\n",
       "       [-0.75007399, -0.27203238,  3.38849211,  1.99046855, -0.48507125,\n",
       "         0.5       ,  1.35566878,  0.35070593],\n",
       "       [-0.72753473, -0.80140251, -0.18730358, -1.15237653, -0.48507125,\n",
       "         0.5       ,  1.35566878,  0.35070593],\n",
       "       [-0.74590423,  0.29262908, -0.18730358,  1.99046855, -0.48507125,\n",
       "         0.5       ,  1.35566878,  0.35070593],\n",
       "       [-0.06826124, -0.03675677, -0.18730358, -0.45396651, -0.48507125,\n",
       "         0.5       , -0.73764331,  0.35070593],\n",
       "       [-0.66555175, -0.67905919, -0.18730358, -0.80317152, -0.48507125,\n",
       "         0.5       ,  1.35566878,  0.35070593],\n",
       "       [ 3.21796355,  0.08088103, -0.18730358, -0.1047615 ,  2.06155281,\n",
       "        -2.        , -0.73764331, -2.85139173],\n",
       "       [ 2.61503822,  0.05735347, -0.18730358, -0.45396651,  2.06155281,\n",
       "        -2.        , -0.73764331, -2.85139173],\n",
       "       [ 0.08049791, -0.44152493, -0.18730358, -0.45396651, -0.48507125,\n",
       "         0.5       , -0.73764331,  0.35070593],\n",
       "       [-0.74590423,  0.88081811, -0.18730358,  0.94285352, -0.48507125,\n",
       "         0.5       ,  1.35566878,  0.35070593],\n",
       "       [-0.16067222,  0.32648524, -0.18730358,  0.59364851,  2.06155281,\n",
       "        -2.        , -0.73764331,  0.35070593],\n",
       "       [ 0.06810131,  0.29262908, -0.18730358,  0.94285352, -0.48507125,\n",
       "         0.5       , -0.73764331, -2.85139173],\n",
       "       [ 0.05570472, -0.21159008, -0.18730358, -0.80317152, -0.48507125,\n",
       "         0.5       , -0.73764331,  0.35070593],\n",
       "       [-0.01529396,  0.06991719, -0.18730358, -0.45396651, -0.48507125,\n",
       "         0.5       , -0.73764331,  0.35070593],\n",
       "       [-0.33535152, -0.32593403, -0.18730358,  0.59364851, -0.48507125,\n",
       "         0.5       , -0.73764331,  0.35070593],\n",
       "       [-0.67682138, -0.06028433, -0.18730358, -0.80317152, -0.48507125,\n",
       "         0.5       ,  1.35566878,  0.35070593],\n",
       "       [-0.73993132, -0.76611117, -0.18730358, -1.15237653, -0.48507125,\n",
       "         0.5       ,  1.35566878,  0.35070593],\n",
       "       [ 0.83218239, -0.58024343, -0.18730358, -0.45396651, -0.48507125,\n",
       "         0.5       , -0.73764331, -2.85139173],\n",
       "       [-0.79853341, -0.06028433, -0.18730358, -0.45396651, -0.48507125,\n",
       "         0.5       ,  1.35566878,  0.35070593],\n",
       "       [ 0.69807376, -0.37131869, -0.18730358, -0.45396651, -0.48507125,\n",
       "         0.5       , -0.73764331,  0.35070593],\n",
       "       [-0.16968793, -0.5434228 , -0.18730358, -0.45396651, -0.48507125,\n",
       "         0.5       , -0.73764331,  0.35070593],\n",
       "       [-0.0693882 , -0.14018393, -0.18730358,  0.94285352, -0.48507125,\n",
       "         0.5       , -0.73764331,  0.35070593],\n",
       "       [ 0.68229628,  3.75532142, -0.18730358,  3.03808357,  2.06155281,\n",
       "        -2.        , -0.73764331,  0.35070593],\n",
       "       [ 1.77432365, -0.6249458 , -0.18730358, -1.15237653, -0.48507125,\n",
       "         0.5       , -0.73764331, -2.85139173],\n",
       "       [-0.31619315,  0.37403444, -0.18730358,  0.94285352, -0.48507125,\n",
       "         0.5       , -0.73764331,  0.35070593],\n",
       "       [-0.77374022, -0.87198519, -0.18730358, -0.80317152, -0.48507125,\n",
       "         0.5       ,  1.35566878, -2.85139173],\n",
       "       [-0.62047322, -0.75670014, -0.18730358,  0.24444351, -0.48507125,\n",
       "         0.5       ,  1.35566878,  0.35070593],\n",
       "       [ 0.06472043,  0.09128021, -0.18730358,  1.29205853, -0.48507125,\n",
       "         0.5       , -0.73764331,  0.35070593],\n",
       "       [-0.780502  ,  0.29262908, -0.18730358, -0.80317152, -0.48507125,\n",
       "         0.5       ,  1.35566878,  0.35070593],\n",
       "       [ 2.61503822,  1.21020397, -0.18730358,  0.59364851,  2.06155281,\n",
       "        -2.        , -0.73764331, -2.85139173],\n",
       "       [-0.66893264, -0.48378043, -0.18730358, -0.45396651, -0.48507125,\n",
       "         0.5       ,  1.35566878,  0.35070593]])"
      ]
     },
     "execution_count": 31,
     "metadata": {},
     "output_type": "execute_result"
    }
   ],
   "source": [
    "X_test"
   ]
  },
  {
   "cell_type": "code",
   "execution_count": 32,
   "metadata": {},
   "outputs": [],
   "source": [
    "from sklearn.linear_model import LinearRegression"
   ]
  },
  {
   "cell_type": "code",
   "execution_count": 33,
   "metadata": {},
   "outputs": [],
   "source": [
    "model = LinearRegression()"
   ]
  },
  {
   "cell_type": "code",
   "execution_count": 34,
   "metadata": {},
   "outputs": [
    {
     "data": {
      "text/plain": [
       "LinearRegression()"
      ]
     },
     "execution_count": 34,
     "metadata": {},
     "output_type": "execute_result"
    }
   ],
   "source": [
    "model.fit(X_train,y_train)"
   ]
  },
  {
   "cell_type": "code",
   "execution_count": 35,
   "metadata": {},
   "outputs": [],
   "source": [
    "pred = model.predict(X_test)"
   ]
  },
  {
   "cell_type": "code",
   "execution_count": 36,
   "metadata": {},
   "outputs": [],
   "source": [
    "from sklearn.metrics import mean_absolute_error,mean_squared_error,r2_score"
   ]
  },
  {
   "cell_type": "code",
   "execution_count": 37,
   "metadata": {},
   "outputs": [],
   "source": [
    "MAE = mean_absolute_error(y_test,pred)"
   ]
  },
  {
   "cell_type": "code",
   "execution_count": 38,
   "metadata": {},
   "outputs": [
    {
     "data": {
      "text/plain": [
       "1.269835670906552"
      ]
     },
     "execution_count": 38,
     "metadata": {},
     "output_type": "execute_result"
    }
   ],
   "source": [
    "MAE"
   ]
  },
  {
   "cell_type": "code",
   "execution_count": 39,
   "metadata": {},
   "outputs": [],
   "source": [
    "RMSE = np.sqrt(mean_squared_error(y_test,pred))"
   ]
  },
  {
   "cell_type": "code",
   "execution_count": 40,
   "metadata": {},
   "outputs": [
    {
     "data": {
      "text/plain": [
       "1.8819533737447376"
      ]
     },
     "execution_count": 40,
     "metadata": {},
     "output_type": "execute_result"
    }
   ],
   "source": [
    "RMSE"
   ]
  },
  {
   "cell_type": "code",
   "execution_count": 41,
   "metadata": {},
   "outputs": [],
   "source": [
    "R2 = r2_score(y_test,pred)"
   ]
  },
  {
   "cell_type": "code",
   "execution_count": 42,
   "metadata": {},
   "outputs": [
    {
     "data": {
      "text/plain": [
       "0.8756155246204997"
      ]
     },
     "execution_count": 42,
     "metadata": {},
     "output_type": "execute_result"
    }
   ],
   "source": [
    "R2"
   ]
  },
  {
   "cell_type": "code",
   "execution_count": 43,
   "metadata": {},
   "outputs": [],
   "source": [
    "residuals = pred - y_test"
   ]
  },
  {
   "cell_type": "code",
   "execution_count": 44,
   "metadata": {},
   "outputs": [
    {
     "data": {
      "text/plain": [
       "<matplotlib.axes._subplots.AxesSubplot at 0x20fdcbeb880>"
      ]
     },
     "execution_count": 44,
     "metadata": {},
     "output_type": "execute_result"
    },
    {
     "data": {
      "image/png": "[encoded data removed]",
      "text/plain": [
       "<Figure size 432x288 with 1 Axes>"
      ]
     },
     "metadata": {
      "needs_background": "light"
     },
     "output_type": "display_data"
    }
   ],
   "source": [
    "sns.scatterplot(x=y_test,y=residuals)"
   ]
  },
  {
   "cell_type": "code",
   "execution_count": 45,
   "metadata": {},
   "outputs": [
    {
     "data": {
      "text/plain": [
       "<matplotlib.axes._subplots.AxesSubplot at 0x20fdd3f3a90>"
      ]
     },
     "execution_count": 45,
     "metadata": {},
     "output_type": "execute_result"
    },
    {
     "data": {
      "image/png": "[encoded data removed]",
      "text/plain": [
       "<Figure size 432x288 with 1 Axes>"
      ]
     },
     "metadata": {
      "needs_background": "light"
     },
     "output_type": "display_data"
    }
   ],
   "source": [
    "sns.kdeplot(residuals)"
   ]
  },
  {
   "cell_type": "code",
   "execution_count": null,
   "metadata": {},
   "outputs": [],
   "source": []
  }
 ],
 "metadata": {
  "kernelspec": {
   "display_name": "Python 3",
   "language": "python",
   "name": "python3"
  },
  "language_info": {
   "codemirror_mode": {
    "name": "ipython",
    "version": 3
   },
   "file_extension": ".py",
   "mimetype": "text/x-python",
   "name": "python",
   "nbconvert_exporter": "python",
   "pygments_lexer": "ipython3",
   "version": "3.8.3"
  }
 },
 "nbformat": 4,
 "nbformat_minor": 4
}
